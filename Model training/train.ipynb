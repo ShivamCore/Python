{
 "cells": [
  {
   "cell_type": "code",
   "execution_count": 54,
   "id": "f723d9ad",
   "metadata": {},
   "outputs": [],
   "source": [
    "import pandas as pd\n",
    "import numpy as np\n",
    "import os\n",
    "import gc\n",
    "import joblib\n",
    "import psutil\n",
    "import warnings\n",
    "from datetime import datetime\n",
    "\n",
    "from sklearn.model_selection import train_test_split, cross_val_score\n",
    "from sklearn.preprocessing import StandardScaler\n",
    "from sklearn.impute import SimpleImputer\n",
    "from sklearn.linear_model import LinearRegression, LogisticRegression\n",
    "from sklearn.ensemble import RandomForestClassifier\n",
    "from sklearn.feature_selection import SelectKBest, f_regression, f_classif\n",
    "from sklearn.metrics import r2_score, mean_squared_error, accuracy_score, roc_auc_score\n",
    "\n",
    "warnings.filterwarnings('ignore')\n"
   ]
  },
  {
   "cell_type": "code",
   "execution_count": 55,
   "id": "37f5913e",
   "metadata": {},
   "outputs": [],
   "source": [
    "def get_memory_usage():\n",
    "    \"\"\"Get current memory usage in GB\"\"\"\n",
    "    process = psutil.Process(os.getpid())\n",
    "    return process.memory_info().rss / 1024 / 1024 / 1024\n"
   ]
  },
  {
   "cell_type": "code",
   "execution_count": 56,
   "id": "aa819b98",
   "metadata": {},
   "outputs": [],
   "source": [
    "def safe_load_data(file_path, sample_size=1_000_000, chunk_size=100_000):\n",
    "    print(f\"🔄 Loading {sample_size:,} rows from {file_path}\")\n",
    "    rows_loaded, chunks = 0, []\n",
    "\n",
    "    for chunk in pd.read_csv(file_path, chunksize=chunk_size):\n",
    "        if rows_loaded >= sample_size:\n",
    "            break\n",
    "        rows_needed = sample_size - rows_loaded\n",
    "        chunks.append(chunk.iloc[:rows_needed])\n",
    "        rows_loaded += len(chunks[-1])\n",
    "\n",
    "    df = pd.concat(chunks, ignore_index=True)\n",
    "    print(f\"✅ Loaded shape: {df.shape}, Memory: {get_memory_usage():.2f} GB\")\n",
    "    return df\n"
   ]
  },
  {
   "cell_type": "code",
   "execution_count": 57,
   "id": "1caf4664",
   "metadata": {},
   "outputs": [],
   "source": [
    "def create_features(df):\n",
    "    df = df.copy()\n",
    "\n",
    "    if 'Login Timestamp' in df:\n",
    "        df['Login Timestamp'] = pd.to_datetime(df['Login Timestamp'], errors='coerce')\n",
    "        df['hour'] = df['Login Timestamp'].dt.hour\n",
    "        df['weekday'] = df['Login Timestamp'].dt.dayofweek\n",
    "\n",
    "    if 'Round-Trip Time [ms]' in df:\n",
    "        df['rtt_log'] = np.log1p(df['Round-Trip Time [ms]'])\n",
    "\n",
    "    if 'Login Successful' in df:\n",
    "        df['Login Successful'] = df['Login Successful'].fillna(0).astype(int)\n",
    "\n",
    "    if 'Is Attack IP' in df:\n",
    "        df['Is Attack IP'] = df['Is Attack IP'].fillna(0).astype(int)\n",
    "\n",
    "    numeric = df.select_dtypes(include=np.number)\n",
    "    imputer = SimpleImputer(strategy='median')\n",
    "    numeric_imputed = pd.DataFrame(imputer.fit_transform(numeric), columns=numeric.columns)\n",
    "    return numeric_imputed\n"
   ]
  },
  {
   "cell_type": "code",
   "execution_count": 58,
   "id": "351c757e",
   "metadata": {},
   "outputs": [],
   "source": [
    "def select_features(X, y, task='regression', k=10):\n",
    "    selector = SelectKBest(f_regression if task == 'regression' else f_classif, k=min(k, X.shape[1]))\n",
    "    X_new = selector.fit_transform(X, y)\n",
    "    selected = X.columns[selector.get_support()]\n",
    "    return X_new, selected.tolist(), selector\n"
   ]
  },
  {
   "cell_type": "code",
   "execution_count": 59,
   "id": "253f4f47",
   "metadata": {},
   "outputs": [],
   "source": [
    "def train_regression(X, y):\n",
    "    X_sel, features, selector = select_features(X, y, 'regression')\n",
    "    X_train, X_test, y_train, y_test = train_test_split(X_sel, y, test_size=0.2, random_state=42)\n",
    "\n",
    "    scaler = StandardScaler()\n",
    "    X_train_scaled = scaler.fit_transform(X_train)\n",
    "    X_test_scaled = scaler.transform(X_test)\n",
    "\n",
    "    model = LinearRegression().fit(X_train_scaled, y_train)\n",
    "    y_pred = model.predict(X_test_scaled)\n",
    "\n",
    "    r2 = r2_score(y_test, y_pred)\n",
    "    print(f\"📊 Regression R²: {r2:.4f}\")\n",
    "    return model, scaler, selector, features, r2\n"
   ]
  },
  {
   "cell_type": "code",
   "execution_count": 60,
   "id": "7e9b8ca6",
   "metadata": {},
   "outputs": [],
   "source": [
    "def train_classifier(X, y):\n",
    "    X_sel, features, selector = select_features(X, y, 'classification')\n",
    "    X_train, X_test, y_train, y_test = train_test_split(X_sel, y, test_size=0.2, stratify=y)\n",
    "\n",
    "    scaler = StandardScaler()\n",
    "    X_train_scaled = scaler.fit_transform(X_train)\n",
    "    X_test_scaled = scaler.transform(X_test)\n",
    "\n",
    "    model = LogisticRegression(max_iter=500).fit(X_train_scaled, y_train)\n",
    "    y_pred = model.predict(X_test_scaled)\n",
    "\n",
    "    acc = accuracy_score(y_test, y_pred)\n",
    "    print(f\"✅ Classification Accuracy: {acc:.4f}\")\n",
    "    return model, scaler, selector, features, acc\n"
   ]
  },
  {
   "cell_type": "code",
   "execution_count": 61,
   "id": "ef97afe1",
   "metadata": {},
   "outputs": [],
   "source": [
    "def save_model(model, scaler, selector, features, name, score):\n",
    "    os.makedirs(\"models\", exist_ok=True)\n",
    "    joblib.dump(model, f\"models/{name}_model.pkl\")\n",
    "    joblib.dump(scaler, f\"models/{name}_scaler.pkl\")\n",
    "    joblib.dump(selector, f\"models/{name}_selector.pkl\")\n",
    "    joblib.dump(features, f\"models/{name}_features.pkl\")\n",
    "    print(f\"💾 Saved '{name}' model | Score: {score:.4f}\")\n"
   ]
  },
  {
   "cell_type": "code",
   "execution_count": 62,
   "id": "9ec23100",
   "metadata": {},
   "outputs": [],
   "source": [
    "def run_pipeline(file_path, sample_size=1_000_000):\n",
    "    df = safe_load_data(file_path, sample_size=sample_size)\n",
    "    df_features = create_features(df)\n",
    "\n",
    "    # Regression Task\n",
    "    if \"Round-Trip Time [ms]\" in df.columns:\n",
    "        df_clean = df.dropna(subset=[\"Round-Trip Time [ms]\"])\n",
    "        y = df_clean[\"Round-Trip Time [ms]\"]\n",
    "        X = df_features.loc[df_clean.index].drop(columns=[\"Round-Trip Time [ms]\"], errors='ignore')\n",
    "        model, scaler, selector, feats, score = train_regression(X, y)\n",
    "        save_model(model, scaler, selector, feats, \"rtt_model\", score)\n",
    "\n",
    "    # Login Classification\n",
    "    if \"Login Successful\" in df.columns:\n",
    "        df_clean = df.dropna(subset=[\"Login Successful\"])\n",
    "        y = df_clean[\"Login Successful\"]\n",
    "        X = df_features.loc[df_clean.index].drop(columns=[\"Login Successful\"], errors='ignore')\n",
    "        model, scaler, selector, feats, score = train_classifier(X, y)\n",
    "        save_model(model, scaler, selector, feats, \"login_model\", score)\n",
    "\n",
    "    # Attack Detection\n",
    "    if \"Is Attack IP\" in df.columns:\n",
    "        df_clean = df.dropna(subset=[\"Is Attack IP\"])\n",
    "        y = df_clean[\"Is Attack IP\"]\n",
    "        X = df_features.loc[df_clean.index].drop(columns=[\"Is Attack IP\"], errors='ignore')\n",
    "        model, scaler, selector, feats, score = train_classifier(X, y)\n",
    "        save_model(model, scaler, selector, feats, \"attack_model\", score)\n",
    "\n",
    "    print(\"\\n✅ All models trained and saved successfully\")\n",
    "    print(f\"Final memory usage: {get_memory_usage():.2f} GB\")\n"
   ]
  },
  {
   "cell_type": "code",
   "execution_count": 64,
   "id": "deb15dd4",
   "metadata": {},
   "outputs": [
    {
     "name": "stdout",
     "output_type": "stream",
     "text": [
      "🔄 Loading 1,000,000,000,000 rows from login/rba-dataset.csv\n",
      "✅ Loaded shape: (31269264, 16), Memory: 5.44 GB\n",
      "📊 Regression R²: 0.1839\n",
      "💾 Saved 'rtt_model' model | Score: 0.1839\n",
      "✅ Classification Accuracy: 0.7367\n",
      "💾 Saved 'login_model' model | Score: 0.7367\n",
      "✅ Classification Accuracy: 0.9010\n",
      "💾 Saved 'attack_model' model | Score: 0.9010\n",
      "\n",
      "✅ All models trained and saved successfully\n",
      "Final memory usage: 1.94 GB\n"
     ]
    }
   ],
   "source": [
    "run_pipeline(\"login/rba-dataset.csv\", sample_size=1000_000_000_000)\n"
   ]
  }
 ],
 "metadata": {
  "kernelspec": {
   "display_name": "tf-env",
   "language": "python",
   "name": "python3"
  },
  "language_info": {
   "codemirror_mode": {
    "name": "ipython",
    "version": 3
   },
   "file_extension": ".py",
   "mimetype": "text/x-python",
   "name": "python",
   "nbconvert_exporter": "python",
   "pygments_lexer": "ipython3",
   "version": "3.11.9"
  }
 },
 "nbformat": 4,
 "nbformat_minor": 5
}
