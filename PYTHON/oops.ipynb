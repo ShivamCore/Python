{
 "cells": [
  {
   "cell_type": "code",
   "execution_count": 1,
   "id": "c8f32120",
   "metadata": {},
   "outputs": [
    {
     "name": "stdout",
     "output_type": "stream",
     "text": [
      "Yash\n",
      "Ankur\n",
      "Rohan\n"
     ]
    }
   ],
   "source": [
    "#Inheritance in Python\n",
    "class A:\n",
    "    A_name = \"Yash\"\n",
    "class B:\n",
    "    B_name = \"Ankur\"\n",
    "class C(B,A):\n",
    "    C_name = \"Rohan\"\n",
    "obj = C() \n",
    "print(obj.A_name)\n",
    "print(obj.B_name)\n",
    "print(obj.C_name)"
   ]
  },
  {
   "cell_type": "code",
   "execution_count": 2,
   "id": "21f6b280",
   "metadata": {},
   "outputs": [
    {
     "name": "stdout",
     "output_type": "stream",
     "text": [
      "Yash\n",
      "Ankur\n"
     ]
    },
    {
     "data": {
      "text/plain": [
       "'Rohan'"
      ]
     },
     "execution_count": 2,
     "metadata": {},
     "output_type": "execute_result"
    }
   ],
   "source": [
    "#encapsulation\n",
    "class A:\n",
    "    name= \"Yash\"\n",
    "    _name= \"Ankur\"  #protected variable\n",
    "    __name= \"Rohan\"  #private variable\n",
    "obj=A()\n",
    "print(obj.name)  #public variable\n",
    "print(obj._name)  #protected variable\n",
    "# print(obj.__name)  #private variable (will raise an error)\n",
    "obj._A__name  #accessing private variable using name mangling"
   ]
  },
  {
   "cell_type": "code",
   "execution_count": 3,
   "id": "efe49dfa",
   "metadata": {},
   "outputs": [
    {
     "name": "stdout",
     "output_type": "stream",
     "text": [
      "This is class B\n"
     ]
    }
   ],
   "source": [
    "#method overiding\n",
    "class A:\n",
    "    def info(self):\n",
    "        print(\"This is class A\")\n",
    "class B(A):\n",
    "    def info(self):\n",
    "        print(\"This is class B\")\n",
    "obj = B()\n",
    "obj.info()  # This will call the info method of class B, overriding class A's method"
   ]
  },
  {
   "cell_type": "code",
   "execution_count": 4,
   "id": "4f4c3507",
   "metadata": {},
   "outputs": [
    {
     "name": "stdout",
     "output_type": "stream",
     "text": [
      "Age is Yash\n"
     ]
    }
   ],
   "source": [
    "#method overloading\n",
    "class A:\n",
    "    def info(self,name):\n",
    "        print(f\"Name is {name}\")\n",
    "    def info(self, age):\n",
    "        print(f\"Age is {age}\")\n",
    "obj = A()\n",
    "obj.info(\"Yash\")  # This will call the second info method, as it overrides"
   ]
  },
  {
   "cell_type": "code",
   "execution_count": 6,
   "id": "c5bc3744",
   "metadata": {},
   "outputs": [
    {
     "name": "stdout",
     "output_type": "stream",
     "text": [
      "name is Rahul and branch is CSE\n",
      "account is 123456 and balance is 10000\n"
     ]
    }
   ],
   "source": [
    "#constructor overloading\n",
    "#inheritance\n",
    "#encapsulation\n",
    "class Collage:\n",
    "    def __init__(self, name, branch):\n",
    "        self.name = name\n",
    "        self._branch = branch\n",
    "\n",
    "    def display(self):\n",
    "        print(f\"name is {self.name} and branch is {self._branch}\")\n",
    "class Account(Collage):\n",
    "    def __init__(self, Account, balance, name, branch):\n",
    "        super().__init__(name, branch)\n",
    "        self.account = Account\n",
    "        self.__balance = balance\n",
    "\n",
    "    def display(self):\n",
    "        super().display()\n",
    "        print(f\"account is {self.account} and balance is {self.__balance}\")\n",
    "\n",
    "acc = Account(\"123456\", 10000, \"Rahul\", \"CSE\")\n",
    "acc.display()"
   ]
  },
  {
   "cell_type": "code",
   "execution_count": null,
   "id": "fa59a221",
   "metadata": {},
   "outputs": [],
   "source": [
    "# mode of file handiling\n",
    "'r'# read mode\n",
    "'w'# write mode\n",
    "'a'# append mode\n",
    "'x'# create mode"
   ]
  },
  {
   "cell_type": "code",
   "execution_count": 2,
   "id": "336662d4",
   "metadata": {},
   "outputs": [],
   "source": [
    "file = open('demo.txt','r')\n",
    "file.read()\n",
    "file.close()"
   ]
  },
  {
   "cell_type": "code",
   "execution_count": null,
   "id": "5d9022e3",
   "metadata": {},
   "outputs": [],
   "source": [
    "file = open('demo.txt','r')\n",
    "file.read()\n",
    "file.close()"
   ]
  },
  {
   "cell_type": "code",
   "execution_count": 9,
   "id": "fae1c8f9",
   "metadata": {},
   "outputs": [
    {
     "data": {
      "text/plain": [
       "12"
      ]
     },
     "execution_count": 9,
     "metadata": {},
     "output_type": "execute_result"
    }
   ],
   "source": [
    "file = open('demo.txt','w')\n",
    "file.write('this is file')"
   ]
  },
  {
   "cell_type": "code",
   "execution_count": 18,
   "id": "99e78235",
   "metadata": {},
   "outputs": [],
   "source": [
    "file = open('demo.txt','a')\n",
    "file.write('my name is rahul')\n",
    "file.close()\n"
   ]
  },
  {
   "cell_type": "code",
   "execution_count": 19,
   "id": "a336af6a",
   "metadata": {},
   "outputs": [
    {
     "data": {
      "text/plain": [
       "'this is filemy name is rahulmy name is rahulmy name is rahulmy name is rahul'"
      ]
     },
     "execution_count": 19,
     "metadata": {},
     "output_type": "execute_result"
    }
   ],
   "source": [
    "file = open('demo.txt','r')\n",
    "file.read()"
   ]
  },
  {
   "cell_type": "code",
   "execution_count": 20,
   "id": "9d319c6d",
   "metadata": {},
   "outputs": [],
   "source": [
    "file = open('new.txt','x')\n",
    "file.write('my name is rahul')\n",
    "file.close()"
   ]
  },
  {
   "cell_type": "code",
   "execution_count": 21,
   "id": "b1942083",
   "metadata": {},
   "outputs": [
    {
     "data": {
      "text/plain": [
       "['this is filemy name is rahulmy name is rahulmy name is rahulmy name is rahul']"
      ]
     },
     "execution_count": 21,
     "metadata": {},
     "output_type": "execute_result"
    }
   ],
   "source": [
    "file = open ('demo.txt','r')\n",
    "file.readlines()"
   ]
  },
  {
   "cell_type": "code",
   "execution_count": 23,
   "id": "0f29dd31",
   "metadata": {},
   "outputs": [],
   "source": [
    "try:\n",
    "    pass\n",
    "except:\n",
    "    pass\n",
    "else:\n",
    "    pass\n",
    "finally:\n",
    "    pass"
   ]
  },
  {
   "cell_type": "code",
   "execution_count": null,
   "id": "82965b37",
   "metadata": {},
   "outputs": [],
   "source": [
    "try:\n",
    "    num = int(input(\"enter a number\"))\n",
    "    print(10/num)\n",
    "    \n",
    "except ZeroDivisionError as e:\n",
    "    print(\"0 mat dalo\",e)\n",
    "except ValueError as e:\n",
    "    "
   ]
  },
  {
   "cell_type": "code",
   "execution_count": 24,
   "id": "f868e27b",
   "metadata": {},
   "outputs": [
    {
     "name": "stdout",
     "output_type": "stream",
     "text": [
      "10\n"
     ]
    }
   ],
   "source": [
    "# lambda function\n",
    "square = lambda x : x*2\n",
    "print(square(5))"
   ]
  },
  {
   "cell_type": "code",
   "execution_count": 25,
   "id": "85eb2503",
   "metadata": {},
   "outputs": [
    {
     "name": "stdout",
     "output_type": "stream",
     "text": [
      "15\n"
     ]
    }
   ],
   "source": [
    "add = lambda x , y : x+y\n",
    "print(add(5,10))"
   ]
  },
  {
   "cell_type": "code",
   "execution_count": 26,
   "id": "0b8206b1",
   "metadata": {},
   "outputs": [
    {
     "name": "stdout",
     "output_type": "stream",
     "text": [
      "168\n"
     ]
    }
   ],
   "source": [
    "mul = lambda x, y :x*y\n",
    "print(mul(12,14))"
   ]
  }
 ],
 "metadata": {
  "kernelspec": {
   "display_name": "Python 3",
   "language": "python",
   "name": "python3"
  },
  "language_info": {
   "codemirror_mode": {
    "name": "ipython",
    "version": 3
   },
   "file_extension": ".py",
   "mimetype": "text/x-python",
   "name": "python",
   "nbconvert_exporter": "python",
   "pygments_lexer": "ipython3",
   "version": "3.11.5"
  }
 },
 "nbformat": 4,
 "nbformat_minor": 5
}
