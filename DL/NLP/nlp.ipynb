{
 "cells": [
  {
   "cell_type": "code",
   "execution_count": 12,
   "id": "3922bee3",
   "metadata": {},
   "outputs": [
    {
     "name": "stdout",
     "output_type": "stream",
     "text": [
      "<built-in method casefold of str object at 0x106469170>\n"
     ]
    }
   ],
   "source": [
    "##casefold example\n",
    "text = \"Hello Welcome\"\n",
    "text = text.casefold\n",
    "print(text)"
   ]
  },
  {
   "cell_type": "code",
   "execution_count": 13,
   "id": "7ffcb86c",
   "metadata": {},
   "outputs": [
    {
     "data": {
      "text/plain": [
       "'hello welcome'"
      ]
     },
     "execution_count": 13,
     "metadata": {},
     "output_type": "execute_result"
    }
   ],
   "source": [
    "text = \"Hello Welcome\"\n",
    "text.lower()\n"
   ]
  },
  {
   "cell_type": "code",
   "execution_count": 14,
   "id": "392cc355",
   "metadata": {},
   "outputs": [],
   "source": [
    "import re"
   ]
  },
  {
   "cell_type": "code",
   "execution_count": 15,
   "id": "f01a0a44",
   "metadata": {},
   "outputs": [
    {
     "data": {
      "text/plain": [
       "'HelloWelcomeboys'"
      ]
     },
     "execution_count": 15,
     "metadata": {},
     "output_type": "execute_result"
    }
   ],
   "source": [
    "input = \"Hello@ Welcome *boys\"\n",
    "cleaned_text = re.sub(r'[^a-zA-Z0-9]', '', input)    \n",
    "cleaned_text"
   ]
  },
  {
   "cell_type": "code",
   "execution_count": 16,
   "id": "e3953f69",
   "metadata": {},
   "outputs": [
    {
     "data": {
      "text/plain": [
       "'HelloWelcomeworldanduniverses909099'"
      ]
     },
     "execution_count": 16,
     "metadata": {},
     "output_type": "execute_result"
    }
   ],
   "source": [
    "input = \"Hello Welcome$ world* %and @universes909099\"\n",
    "cleaned_text = re.sub(r'[^a-zA-Z0-9]', '', input)\n",
    "cleaned_text"
   ]
  },
  {
   "cell_type": "code",
   "execution_count": 17,
   "id": "d91d6e41",
   "metadata": {},
   "outputs": [
    {
     "data": {
      "text/plain": [
       "'HelloWelcomeworldanduniverses'"
      ]
     },
     "execution_count": 17,
     "metadata": {},
     "output_type": "execute_result"
    }
   ],
   "source": [
    "input = \"Hello Welcome$ world* %and @universes798787\"\n",
    "cleaned_text = re.sub(r'[^a-zA-Z]', '', input)\n",
    "cleaned_text"
   ]
  },
  {
   "cell_type": "code",
   "execution_count": 18,
   "id": "b54a3fe4",
   "metadata": {},
   "outputs": [
    {
     "name": "stdout",
     "output_type": "stream",
     "text": [
      "I cannot do this\n"
     ]
    }
   ],
   "source": [
    "import contractions\n",
    "text = \"I can't do this\"\n",
    "expended_text = contractions.fix(text)\n",
    "print(expended_text)"
   ]
  },
  {
   "cell_type": "code",
   "execution_count": 19,
   "id": "1b14db1c",
   "metadata": {},
   "outputs": [],
   "source": [
    "import nltk"
   ]
  },
  {
   "cell_type": "code",
   "execution_count": null,
   "id": "5667741a",
   "metadata": {},
   "outputs": [
    {
     "name": "stderr",
     "output_type": "stream",
     "text": [
      "[nltk_data] Downloading package punkt to /Users/shonty/nltk_data...\n",
      "[nltk_data]   Unzipping tokenizers/punkt.zip.\n"
     ]
    },
    {
     "data": {
      "text/plain": [
       "True"
      ]
     },
     "execution_count": 20,
     "metadata": {},
     "output_type": "execute_result"
    }
   ],
   "source": [
    "nltk.download('punkt')"
   ]
  },
  {
   "cell_type": "code",
   "execution_count": 22,
   "id": "93e92c37",
   "metadata": {},
   "outputs": [
    {
     "name": "stderr",
     "output_type": "stream",
     "text": [
      "[nltk_data] Downloading package punkt_tab to\n",
      "[nltk_data]     /Users/shonty/nltk_data...\n",
      "[nltk_data]   Unzipping tokenizers/punkt_tab.zip.\n"
     ]
    },
    {
     "data": {
      "text/plain": [
       "True"
      ]
     },
     "execution_count": 22,
     "metadata": {},
     "output_type": "execute_result"
    }
   ],
   "source": [
    "nltk.download('punkt_tab')"
   ]
  },
  {
   "cell_type": "code",
   "execution_count": 23,
   "id": "0103dfa4",
   "metadata": {},
   "outputs": [
    {
     "name": "stdout",
     "output_type": "stream",
     "text": [
      "['hello', '@', 'my', 'name', 'is', '#', 'shonty']\n",
      "hellomynameisshonty\n"
     ]
    }
   ],
   "source": [
    "input = \"hello@ my name is #shonty\"\n",
    "tokens = nltk.word_tokenize(input)\n",
    "print(tokens)\n",
    "\n",
    "clean_text =[token for token in tokens if token.isalnum()]\n",
    "cleaned_text = ''.join(clean_text)\n",
    "print(cleaned_text)"
   ]
  },
  {
   "cell_type": "code",
   "execution_count": 26,
   "id": "be559774",
   "metadata": {},
   "outputs": [
    {
     "data": {
      "text/plain": [
       "'Hello, world! https://pypi.org/project/nltk/ This is a test.'"
      ]
     },
     "execution_count": 26,
     "metadata": {},
     "output_type": "execute_result"
    }
   ],
   "source": [
    "sentence = \"Hello, world! https://pypi.org/project/nltk/ This is a test.\"\n",
    "import re\n",
    "re.sub(r\"<.*?>\", \"\", sentence)  "
   ]
  },
  {
   "cell_type": "code",
   "execution_count": 27,
   "id": "c21a1782",
   "metadata": {},
   "outputs": [
    {
     "data": {
      "text/plain": [
       "'Hello, world!  This is a test.'"
      ]
     },
     "execution_count": 27,
     "metadata": {},
     "output_type": "execute_result"
    }
   ],
   "source": [
    "sentence = \"Hello, world! https://pypi.org/project/nltk/ This is a test.\"\n",
    "import re\n",
    "re.sub(r'https?://\\S+| www\\.\\S+', '', sentence)  # Remove URLs    "
   ]
  }
 ],
 "metadata": {
  "kernelspec": {
   "display_name": "tf-env",
   "language": "python",
   "name": "python3"
  },
  "language_info": {
   "codemirror_mode": {
    "name": "ipython",
    "version": 3
   },
   "file_extension": ".py",
   "mimetype": "text/x-python",
   "name": "python",
   "nbconvert_exporter": "python",
   "pygments_lexer": "ipython3",
   "version": "3.11.9"
  }
 },
 "nbformat": 4,
 "nbformat_minor": 5
}
