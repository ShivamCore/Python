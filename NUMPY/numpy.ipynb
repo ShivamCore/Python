{
 "cells": [
  {
   "cell_type": "code",
   "execution_count": null,
   "id": "5cacd1bb",
   "metadata": {},
   "outputs": [],
   "source": [
    "import numpy as np  ##importing numpy  , import is key word , as is alias , np is alias \n",
    "print(np.__version__)"
   ]
  },
  {
   "cell_type": "code",
   "execution_count": null,
   "id": "300e35c6",
   "metadata": {},
   "outputs": [],
   "source": [
    "lst = [1,2,3,4,5,6,7,8,9]\n",
    "print(lst)\n",
    "print(\"type of list :-\", type(lst))\n"
   ]
  },
  {
   "cell_type": "code",
   "execution_count": null,
   "id": "aef60f54",
   "metadata": {},
   "outputs": [],
   "source": [
    "arr = np.array(lst)\n",
    "print(arr)\n",
    "print(\"type of array:-\", type(arr))"
   ]
  },
  {
   "cell_type": "code",
   "execution_count": null,
   "id": "a49559dc",
   "metadata": {},
   "outputs": [],
   "source": [
    "lst = list(range(1,10))\n",
    "print(type(lst))\n",
    "arr = np.array(lst)\n",
    "arr"
   ]
  },
  {
   "cell_type": "code",
   "execution_count": null,
   "id": "56e46fc7",
   "metadata": {},
   "outputs": [],
   "source": [
    "arr = np.arange(1,10)\n",
    "arr"
   ]
  },
  {
   "cell_type": "code",
   "execution_count": null,
   "id": "5004af3b",
   "metadata": {},
   "outputs": [],
   "source": [
    "np.zeros(5)"
   ]
  },
  {
   "cell_type": "code",
   "execution_count": null,
   "id": "5fcfd616",
   "metadata": {},
   "outputs": [],
   "source": [
    "np.ones(5)"
   ]
  },
  {
   "cell_type": "code",
   "execution_count": null,
   "id": "d1bf90f6",
   "metadata": {},
   "outputs": [],
   "source": [
    "np.linspace(1,10,20)"
   ]
  },
  {
   "cell_type": "code",
   "execution_count": null,
   "id": "26ec7fbd",
   "metadata": {},
   "outputs": [],
   "source": [
    "np.zeros((5,5))"
   ]
  },
  {
   "cell_type": "code",
   "execution_count": null,
   "id": "dc3abe00",
   "metadata": {},
   "outputs": [],
   "source": [
    "np.ones((5,5))"
   ]
  },
  {
   "cell_type": "code",
   "execution_count": null,
   "id": "e658fbcc",
   "metadata": {},
   "outputs": [],
   "source": [
    "arr = np.arange(1,31)"
   ]
  },
  {
   "cell_type": "code",
   "execution_count": null,
   "id": "d06d6f4d",
   "metadata": {},
   "outputs": [],
   "source": [
    "arr.reshape(5,6)"
   ]
  },
  {
   "cell_type": "code",
   "execution_count": null,
   "id": "47238fbe",
   "metadata": {},
   "outputs": [],
   "source": [
    "arr = np.random.randint(1,5,9)\n",
    "arr"
   ]
  },
  {
   "cell_type": "code",
   "execution_count": null,
   "id": "11b61b8f",
   "metadata": {},
   "outputs": [],
   "source": [
    "arr = np.random.randint(1,5,(5,2))\n",
    "arr"
   ]
  },
  {
   "cell_type": "code",
   "execution_count": null,
   "id": "ccc3426a",
   "metadata": {},
   "outputs": [],
   "source": [
    "np.random.random((5,2))"
   ]
  },
  {
   "cell_type": "code",
   "execution_count": null,
   "id": "4153dc19",
   "metadata": {},
   "outputs": [],
   "source": [
    "arr = np.arange(60).reshape(12,5)\n",
    "arr"
   ]
  },
  {
   "cell_type": "code",
   "execution_count": null,
   "id": "88be6c23",
   "metadata": {},
   "outputs": [],
   "source": [
    "print(\"array shape:-\",arr.shape)\n",
    "print(\"size of array:-\",arr.size)\n",
    "print(\"number of dim:-\",arr.ndim)\n",
    "print(\"dtype of array:-\",arr.dtype)"
   ]
  },
  {
   "cell_type": "code",
   "execution_count": null,
   "id": "eb62691d",
   "metadata": {},
   "outputs": [],
   "source": [
    "# 2D array convert in 1 d array \n",
    "arr.flatten()"
   ]
  },
  {
   "cell_type": "code",
   "execution_count": null,
   "id": "24bdf522",
   "metadata": {},
   "outputs": [],
   "source": [
    "# arr.ravel()"
   ]
  },
  {
   "cell_type": "code",
   "execution_count": null,
   "id": "438b42f5",
   "metadata": {},
   "outputs": [],
   "source": [
    "print(\"array shape:-\",arr.shape)\n",
    "print(\"size of array:-\",arr.size)\n",
    "print(\"number of dim:-\",arr.ndim)\n",
    "print(\"dtype of array:-\",arr.dtype)"
   ]
  },
  {
   "cell_type": "code",
   "execution_count": null,
   "id": "e6a960b5",
   "metadata": {},
   "outputs": [],
   "source": [
    "arr[0][1]"
   ]
  },
  {
   "cell_type": "code",
   "execution_count": null,
   "id": "91ed78a3",
   "metadata": {},
   "outputs": [],
   "source": [
    "arr[11][-1]"
   ]
  },
  {
   "cell_type": "code",
   "execution_count": null,
   "id": "bb71cc15",
   "metadata": {},
   "outputs": [],
   "source": [
    "arr = np.arange(60).reshape(12,5)\n",
    "arr"
   ]
  },
  {
   "cell_type": "code",
   "execution_count": null,
   "id": "3b85394f",
   "metadata": {},
   "outputs": [],
   "source": [
    "arr[11:12,4]"
   ]
  },
  {
   "cell_type": "code",
   "execution_count": null,
   "id": "97e3179f",
   "metadata": {},
   "outputs": [],
   "source": [
    "arr[arr==59]=100\n",
    "arr"
   ]
  },
  {
   "cell_type": "code",
   "execution_count": null,
   "id": "b12151a0",
   "metadata": {},
   "outputs": [],
   "source": [
    "# min,max,mine"
   ]
  },
  {
   "cell_type": "code",
   "execution_count": null,
   "id": "05028e53",
   "metadata": {},
   "outputs": [],
   "source": [
    "arr = np.array(np.arange(225).reshape(5,15,3))\n",
    "arr"
   ]
  },
  {
   "cell_type": "code",
   "execution_count": null,
   "id": "606cf156",
   "metadata": {},
   "outputs": [],
   "source": [
    "print(\"array shape:-\",arr.shape)\n",
    "print(\"size of array:-\",arr.size)\n",
    "print(\"number of dim:-\",arr.ndim)\n",
    "print(\"dtype of array:-\",arr.dtype)"
   ]
  },
  {
   "cell_type": "code",
   "execution_count": null,
   "id": "ba30e787",
   "metadata": {},
   "outputs": [],
   "source": [
    "arr[0]"
   ]
  },
  {
   "cell_type": "code",
   "execution_count": null,
   "id": "4c292774",
   "metadata": {},
   "outputs": [],
   "source": [
    "arr[0][0][0]"
   ]
  },
  {
   "cell_type": "code",
   "execution_count": null,
   "id": "7c1363cb",
   "metadata": {},
   "outputs": [],
   "source": [
    "arr[0:2,1:3,1:3]"
   ]
  },
  {
   "cell_type": "code",
   "execution_count": null,
   "id": "e5109679",
   "metadata": {},
   "outputs": [],
   "source": [
    "arr[0]\n",
    "arr[1]"
   ]
  },
  {
   "cell_type": "code",
   "execution_count": null,
   "id": "3ef207c1",
   "metadata": {},
   "outputs": [],
   "source": [
    "arr[:,0,0]"
   ]
  },
  {
   "cell_type": "code",
   "execution_count": null,
   "id": "0793a6e1",
   "metadata": {},
   "outputs": [],
   "source": [
    "[arr[i, 0, 0] for i in range(arr.shape[0])]"
   ]
  },
  {
   "cell_type": "code",
   "execution_count": null,
   "id": "74b7d0f0",
   "metadata": {},
   "outputs": [],
   "source": [
    "a = np.array([1, 2, 3])\n",
    "b = np.array([4, 5, 6])\n",
    "\n",
    "print(a + b)     \n",
    "print(a - b)     \n",
    "print(a * b)    \n",
    "print(a / b)     \n",
    "print(a ** 2) "
   ]
  },
  {
   "cell_type": "code",
   "execution_count": null,
   "id": "59155e40",
   "metadata": {},
   "outputs": [],
   "source": [
    "arr = np.array([5, 1, 9, 3])\n",
    "print(np.min(arr))   "
   ]
  },
  {
   "cell_type": "code",
   "execution_count": null,
   "id": "def2b44e",
   "metadata": {},
   "outputs": [],
   "source": [
    "arr = np.array([5,1,9,3])\n",
    "print(np.max(arr))   \n"
   ]
  },
  {
   "cell_type": "code",
   "execution_count": null,
   "id": "fae4a171",
   "metadata": {},
   "outputs": [],
   "source": [
    "arr = np.array([5,1,9,3])\n",
    "print(np.mean(arr))  "
   ]
  },
  {
   "cell_type": "code",
   "execution_count": null,
   "id": "1d3870d5",
   "metadata": {},
   "outputs": [],
   "source": []
  }
 ],
 "metadata": {
  "kernelspec": {
   "display_name": "Python 3",
   "language": "python",
   "name": "python3"
  },
  "language_info": {
   "codemirror_mode": {
    "name": "ipython",
    "version": 3
   },
   "file_extension": ".py",
   "mimetype": "text/x-python",
   "name": "python",
   "nbconvert_exporter": "python",
   "pygments_lexer": "ipython3",
   "version": "3.11.5"
  }
 },
 "nbformat": 4,
 "nbformat_minor": 5
}
